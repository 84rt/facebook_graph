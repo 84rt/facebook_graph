{
 "cells": [
  {
   "cell_type": "code",
   "execution_count": 1,
   "metadata": {},
   "outputs": [],
   "source": [
    "import glob \n",
    "from IPython.display import display\n",
    "import pandas as pd"
   ]
  },
  {
   "cell_type": "markdown",
   "metadata": {},
   "source": [
    "### Change your directory to the path with the csv files"
   ]
  },
  {
   "cell_type": "code",
   "execution_count": 2,
   "metadata": {},
   "outputs": [],
   "source": [
    "directory = \"/home/bart/Projects/facebook_graph\"\n",
    "pattern = \"*.csv\""
   ]
  },
  {
   "cell_type": "markdown",
   "metadata": {},
   "source": [
    "### Test whether everything works well on a single file before ittertaing over all files\n",
    "I would additionally advise making a back up copy of your data before making any operations on it\n",
    "\n",
    "First lets see if everything loads properly"
   ]
  },
  {
   "cell_type": "code",
   "execution_count": 4,
   "metadata": {},
   "outputs": [],
   "source": [
    "# Loop through all files matching the pattern in the directory\n",
    "for file in glob.glob(directory + pattern):\n",
    "\n",
    "    # Read the CSV file into a DataFrame\n",
    "    df = pd.read_csv(file)\n",
    "\n",
    "    # rename the columns\n",
    "    df.columns = [\"URL\", \"drop1\", \"name\", \"drop2\", \"drop3\"]\n",
    "\n",
    "    # Display the first five rows of the DataFrame\n",
    "    display(df.head(5))\n",
    "\n",
    "    # Break the loop after one file\n",
    "    break"
   ]
  },
  {
   "cell_type": "markdown",
   "metadata": {},
   "source": [
    "Now lets check whether the opertaions do what we expect from them"
   ]
  },
  {
   "cell_type": "code",
   "execution_count": 5,
   "metadata": {},
   "outputs": [],
   "source": [
    "for file in glob.glob(directory + pattern):\n",
    "    df = pd.read_csv(file)\n",
    "\n",
    "    # check whether the file already got modified\n",
    "    if \"URL\" not in df.columns:\n",
    "        # drop the unwanted columns\n",
    "        df.drop(df.columns[[1, 3, 4]], axis=1, inplace=True)\n",
    "\n",
    "        # name the columns and swap them around\n",
    "        df.columns = [\"URL\", \"Name\"]\n",
    "        df = df.reindex(columns=['Name', 'URL'])\n",
    "\n",
    "    display(df.head())\n",
    "\n",
    "    break"
   ]
  },
  {
   "cell_type": "code",
   "execution_count": 6,
   "metadata": {},
   "outputs": [],
   "source": [
    "for file in glob.glob(directory + pattern):\n",
    "    df = pd.read_csv(file)\n",
    "    # print(\"working on\", file, len(df.columns))\n",
    "    n_cols = len(df.columns)\n",
    "\n",
    "    if \"URL\" not in df.columns:\n",
    "        # in the stnadard case there should be 5 cols that we want to reduce to 2\n",
    "        if n_cols == 5:\n",
    "            df.drop(df.columns[[1, 3, 4]], axis=1, inplace=True)\n",
    "\n",
    "            df.columns = [\"URL\", \"Name\"]\n",
    "            df = df.reindex(columns=[\"Name\", \"URL\"])\n",
    "\n",
    "            df.to_csv(f\"{file}\", index=False)\n",
    "        elif n_cols == 3: # in some cases we only have 3 cols and we want to remove the mid one\n",
    "            df.drop(df.columns[[1]], axis=1, inplace=True)\n",
    "\n",
    "            df.columns = [\"URL\", \"Name\"]\n",
    "            df = df.reindex(columns=[\"Name\", \"URL\"])\n",
    "\n",
    "            df.to_csv(f\"{file}\", index=False)\n",
    "        else: # this is the odd case where the \n",
    "            df.drop(df.index[[0, 1]], inplace=True)\n",
    "            df = df.iloc[:, 2:8]\n",
    "            df.columns = [\"NaN\", \"NaN\", \"NaN\", \"NaN\", \"NaN\", \"NaN\"]\n",
    "            df = df.dropna(how='all', axis=1)\n",
    "            df = df.transpose()\n",
    "            df = df.dropna(how='all', axis=1)\n",
    "            df.columns = [\"Name\"]\n",
    "            # the following two list are for quick debiggin only\n",
    "            display(df.head(40))\n",
    "            print(file, n_cols)\n",
    "\n",
    "            df.to_csv(f\"{file}\", index=False)\n",
    "            # break\n"
   ]
  },
  {
   "cell_type": "markdown",
   "metadata": {},
   "source": [
    "### Now lets do the same but for all the files"
   ]
  }
 ],
 "metadata": {
  "kernelspec": {
   "display_name": "Python 3",
   "language": "python",
   "name": "python3"
  },
  "language_info": {
   "codemirror_mode": {
    "name": "ipython",
    "version": 3
   },
   "file_extension": ".py",
   "mimetype": "text/x-python",
   "name": "python",
   "nbconvert_exporter": "python",
   "pygments_lexer": "ipython3",
   "version": "3.10.12"
  }
 },
 "nbformat": 4,
 "nbformat_minor": 2
}
